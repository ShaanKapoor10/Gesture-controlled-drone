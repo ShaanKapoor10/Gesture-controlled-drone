{
 "cells": [
  {
   "cell_type": "code",
   "execution_count": 2,
   "metadata": {
    "ExecuteTime": {
     "end_time": "2024-02-10T13:42:10.088213600Z",
     "start_time": "2024-02-10T13:42:10.035581500Z"
    },
    "id": "igMyGnjE9hEp"
   },
   "outputs": [
    {
     "name": "stdout",
     "output_type": "stream",
     "text": [
      "WARNING:tensorflow:From C:\\Users\\shaan\\AppData\\Local\\Programs\\Python\\Python311\\Lib\\site-packages\\keras\\src\\losses.py:2976: The name tf.losses.sparse_softmax_cross_entropy is deprecated. Please use tf.compat.v1.losses.sparse_softmax_cross_entropy instead.\n",
      "\n"
     ]
    }
   ],
   "source": [
    "import csv\n",
    "\n",
    "import numpy as np\n",
    "import tensorflow as tf\n",
    "from sklearn.model_selection import train_test_split\n",
    "\n",
    "RANDOM_SEED = 42"
   ]
  },
  {
   "cell_type": "markdown",
   "metadata": {
    "id": "t2HDvhIu9hEr"
   },
   "source": [
    "# Specify each path"
   ]
  },
  {
   "cell_type": "code",
   "execution_count": 3,
   "metadata": {
    "ExecuteTime": {
     "end_time": "2024-02-10T13:42:10.093746500Z",
     "start_time": "2024-02-10T13:42:10.046706200Z"
    },
    "id": "9NvZP2Zn9hEy"
   },
   "outputs": [],
   "source": [
    "dataset = 'model/keypoint_classifier/keypoint.csv'\n",
    "model_save_path = 'model/keypoint_classifier/keypoint_classifier.hdf5'\n",
    "tflite_save_path = 'model/keypoint_classifier/keypoint_classifier.tflite'"
   ]
  },
  {
   "cell_type": "markdown",
   "metadata": {
    "id": "s5oMH7x19hEz"
   },
   "source": [
    "# Set number of classes"
   ]
  },
  {
   "cell_type": "code",
   "execution_count": 4,
   "metadata": {
    "ExecuteTime": {
     "end_time": "2024-02-10T13:42:10.093746500Z",
     "start_time": "2024-02-10T13:42:10.056805400Z"
    },
    "id": "du4kodXL9hEz"
   },
   "outputs": [],
   "source": [
    "NUM_CLASSES = 10"
   ]
  },
  {
   "cell_type": "markdown",
   "metadata": {
    "id": "XjnL0uso9hEz"
   },
   "source": [
    "# Dataset reading"
   ]
  },
  {
   "cell_type": "code",
   "execution_count": 5,
   "metadata": {
    "ExecuteTime": {
     "end_time": "2024-02-10T13:42:10.236787200Z",
     "start_time": "2024-02-10T13:42:10.062451600Z"
    },
    "id": "QT5ZqtEz9hE0"
   },
   "outputs": [],
   "source": [
    "X_dataset = np.loadtxt(dataset, delimiter=',', dtype='float32', usecols=list(range(1, (21 * 2) + 1)))"
   ]
  },
  {
   "cell_type": "code",
   "execution_count": 6,
   "metadata": {
    "ExecuteTime": {
     "end_time": "2024-02-10T13:42:10.252862Z",
     "start_time": "2024-02-10T13:42:10.101832700Z"
    },
    "id": "QmoKFsp49hE0"
   },
   "outputs": [],
   "source": [
    "y_dataset = np.loadtxt(dataset, delimiter=',', dtype='int32', usecols=(0))"
   ]
  },
  {
   "cell_type": "code",
   "execution_count": 7,
   "metadata": {
    "ExecuteTime": {
     "end_time": "2024-02-10T13:42:10.252862Z",
     "start_time": "2024-02-10T13:42:10.120175800Z"
    },
    "id": "xQU7JTZ_9hE0"
   },
   "outputs": [],
   "source": [
    "X_train, X_test, y_train, y_test = train_test_split(X_dataset, y_dataset, train_size=0.75, random_state=RANDOM_SEED)"
   ]
  },
  {
   "cell_type": "markdown",
   "metadata": {
    "id": "mxK_lETT9hE0"
   },
   "source": [
    "# Model building"
   ]
  },
  {
   "cell_type": "code",
   "execution_count": 8,
   "metadata": {
    "ExecuteTime": {
     "end_time": "2024-02-10T13:42:10.252862Z",
     "start_time": "2024-02-10T13:42:10.130353Z"
    },
    "id": "vHBmUf1t9hE1"
   },
   "outputs": [
    {
     "name": "stdout",
     "output_type": "stream",
     "text": [
      "WARNING:tensorflow:From C:\\Users\\shaan\\AppData\\Local\\Programs\\Python\\Python311\\Lib\\site-packages\\keras\\src\\backend.py:1398: The name tf.executing_eagerly_outside_functions is deprecated. Please use tf.compat.v1.executing_eagerly_outside_functions instead.\n",
      "\n"
     ]
    }
   ],
   "source": [
    "model = tf.keras.models.Sequential([\n",
    "    tf.keras.layers.Input((21 * 2, )),\n",
    "    tf.keras.layers.Dropout(0.2),\n",
    "    tf.keras.layers.Dense(20, activation='relu'),\n",
    "    tf.keras.layers.Dropout(0.4),\n",
    "    tf.keras.layers.Dense(10, activation='relu'),\n",
    "    tf.keras.layers.Dense(NUM_CLASSES, activation='softmax')\n",
    "])"
   ]
  },
  {
   "cell_type": "code",
   "execution_count": 9,
   "metadata": {
    "ExecuteTime": {
     "end_time": "2024-02-10T13:42:10.252862Z",
     "start_time": "2024-02-10T13:42:10.174996900Z"
    },
    "colab": {
     "base_uri": "https://localhost:8080/"
    },
    "id": "ypqky9tc9hE1",
    "outputId": "5db082bb-30e3-4110-bf63-a1ee777ecd46"
   },
   "outputs": [
    {
     "name": "stdout",
     "output_type": "stream",
     "text": [
      "Model: \"sequential\"\n",
      "_________________________________________________________________\n",
      " Layer (type)                Output Shape              Param #   \n",
      "=================================================================\n",
      " dropout (Dropout)           (None, 42)                0         \n",
      "                                                                 \n",
      " dense (Dense)               (None, 20)                860       \n",
      "                                                                 \n",
      " dropout_1 (Dropout)         (None, 20)                0         \n",
      "                                                                 \n",
      " dense_1 (Dense)             (None, 10)                210       \n",
      "                                                                 \n",
      " dense_2 (Dense)             (None, 10)                110       \n",
      "                                                                 \n",
      "=================================================================\n",
      "Total params: 1180 (4.61 KB)\n",
      "Trainable params: 1180 (4.61 KB)\n",
      "Non-trainable params: 0 (0.00 Byte)\n",
      "_________________________________________________________________\n"
     ]
    }
   ],
   "source": [
    "model.summary()  # tf.keras.utils.plot_model(model, show_shapes=True)"
   ]
  },
  {
   "cell_type": "code",
   "execution_count": 10,
   "metadata": {
    "ExecuteTime": {
     "end_time": "2024-02-10T13:42:10.252862Z",
     "start_time": "2024-02-10T13:42:10.189244Z"
    },
    "id": "MbMjOflQ9hE1"
   },
   "outputs": [],
   "source": [
    "# Model checkpoint callback\n",
    "cp_callback = tf.keras.callbacks.ModelCheckpoint(\n",
    "    model_save_path, verbose=1, save_weights_only=False)\n",
    "# Callback for early stopping\n",
    "es_callback = tf.keras.callbacks.EarlyStopping(patience=20, verbose=1)"
   ]
  },
  {
   "cell_type": "code",
   "execution_count": 11,
   "metadata": {
    "ExecuteTime": {
     "end_time": "2024-02-10T13:42:10.252862Z",
     "start_time": "2024-02-10T13:42:10.193835800Z"
    },
    "id": "c3Dac0M_9hE2"
   },
   "outputs": [
    {
     "name": "stdout",
     "output_type": "stream",
     "text": [
      "WARNING:tensorflow:From C:\\Users\\shaan\\AppData\\Local\\Programs\\Python\\Python311\\Lib\\site-packages\\keras\\src\\optimizers\\__init__.py:309: The name tf.train.Optimizer is deprecated. Please use tf.compat.v1.train.Optimizer instead.\n",
      "\n"
     ]
    }
   ],
   "source": [
    "# Model compilation\n",
    "model.compile(\n",
    "    optimizer='adam',\n",
    "    loss='sparse_categorical_crossentropy',\n",
    "    metrics=['accuracy']\n",
    ")"
   ]
  },
  {
   "cell_type": "markdown",
   "metadata": {
    "id": "7XI0j1Iu9hE2"
   },
   "source": [
    "# Model training"
   ]
  },
  {
   "cell_type": "code",
   "execution_count": 12,
   "metadata": {
    "ExecuteTime": {
     "end_time": "2024-02-10T13:42:11.040334Z",
     "start_time": "2024-02-10T13:42:10.205470100Z"
    },
    "colab": {
     "base_uri": "https://localhost:8080/"
    },
    "id": "WirBl-JE9hE3",
    "outputId": "71b30ca2-8294-4d9d-8aa2-800d90d399de",
    "scrolled": true
   },
   "outputs": [
    {
     "name": "stdout",
     "output_type": "stream",
     "text": [
      "Epoch 1/1000\n",
      "WARNING:tensorflow:From C:\\Users\\shaan\\AppData\\Local\\Programs\\Python\\Python311\\Lib\\site-packages\\keras\\src\\utils\\tf_utils.py:492: The name tf.ragged.RaggedTensorValue is deprecated. Please use tf.compat.v1.ragged.RaggedTensorValue instead.\n",
      "\n",
      "WARNING:tensorflow:From C:\\Users\\shaan\\AppData\\Local\\Programs\\Python\\Python311\\Lib\\site-packages\\keras\\src\\engine\\base_layer_utils.py:384: The name tf.executing_eagerly_outside_functions is deprecated. Please use tf.compat.v1.executing_eagerly_outside_functions instead.\n",
      "\n",
      "35/39 [=========================>....] - ETA: 0s - loss: 2.1958 - accuracy: 0.1676 \n",
      "Epoch 1: saving model to model/keypoint_classifier\\keypoint_classifier.hdf5\n",
      "39/39 [==============================] - 1s 8ms/step - loss: 2.1895 - accuracy: 0.1696 - val_loss: 2.0584 - val_accuracy: 0.2055\n",
      "Epoch 2/1000\n",
      " 1/39 [..............................] - ETA: 0s - loss: 2.0353 - accuracy: 0.1953\n",
      "Epoch 2: saving model to model/keypoint_classifier\\keypoint_classifier.hdf5\n",
      "39/39 [==============================] - 0s 3ms/step - loss: 2.0234 - accuracy: 0.2365 - val_loss: 1.9169 - val_accuracy: 0.2697\n",
      "Epoch 3/1000\n",
      " 1/39 [..............................] - ETA: 0s - loss: 1.9222 - accuracy: 0.2891"
     ]
    },
    {
     "name": "stderr",
     "output_type": "stream",
     "text": [
      "C:\\Users\\shaan\\AppData\\Local\\Programs\\Python\\Python311\\Lib\\site-packages\\keras\\src\\engine\\training.py:3103: UserWarning: You are saving your model as an HDF5 file via `model.save()`. This file format is considered legacy. We recommend using instead the native Keras format, e.g. `model.save('my_model.keras')`.\n",
      "  saving_api.save_model(\n"
     ]
    },
    {
     "name": "stdout",
     "output_type": "stream",
     "text": [
      "\n",
      "Epoch 3: saving model to model/keypoint_classifier\\keypoint_classifier.hdf5\n",
      "39/39 [==============================] - 0s 2ms/step - loss: 1.9061 - accuracy: 0.2704 - val_loss: 1.7877 - val_accuracy: 0.2842\n",
      "Epoch 4/1000\n",
      " 1/39 [..............................] - ETA: 0s - loss: 1.8472 - accuracy: 0.2500\n",
      "Epoch 4: saving model to model/keypoint_classifier\\keypoint_classifier.hdf5\n",
      "39/39 [==============================] - 0s 2ms/step - loss: 1.8031 - accuracy: 0.2823 - val_loss: 1.6756 - val_accuracy: 0.2909\n",
      "Epoch 5/1000\n",
      " 1/39 [..............................] - ETA: 0s - loss: 1.6551 - accuracy: 0.3906\n",
      "Epoch 5: saving model to model/keypoint_classifier\\keypoint_classifier.hdf5\n",
      "39/39 [==============================] - 0s 2ms/step - loss: 1.7175 - accuracy: 0.3017 - val_loss: 1.5777 - val_accuracy: 0.3703\n",
      "Epoch 6/1000\n",
      " 1/39 [..............................] - ETA: 0s - loss: 1.7549 - accuracy: 0.2969\n",
      "Epoch 6: saving model to model/keypoint_classifier\\keypoint_classifier.hdf5\n",
      "39/39 [==============================] - 0s 3ms/step - loss: 1.6460 - accuracy: 0.3454 - val_loss: 1.4862 - val_accuracy: 0.4115\n",
      "Epoch 7/1000\n",
      " 1/39 [..............................] - ETA: 0s - loss: 1.5705 - accuracy: 0.3516\n",
      "Epoch 7: saving model to model/keypoint_classifier\\keypoint_classifier.hdf5\n",
      "39/39 [==============================] - 0s 2ms/step - loss: 1.5959 - accuracy: 0.3591 - val_loss: 1.4006 - val_accuracy: 0.4564\n",
      "Epoch 8/1000\n",
      " 1/39 [..............................] - ETA: 0s - loss: 1.5288 - accuracy: 0.3906\n",
      "Epoch 8: saving model to model/keypoint_classifier\\keypoint_classifier.hdf5\n",
      "39/39 [==============================] - 0s 2ms/step - loss: 1.5298 - accuracy: 0.3846 - val_loss: 1.3193 - val_accuracy: 0.5218\n",
      "Epoch 9/1000\n",
      " 1/39 [..............................] - ETA: 0s - loss: 1.4415 - accuracy: 0.4219\n",
      "Epoch 9: saving model to model/keypoint_classifier\\keypoint_classifier.hdf5\n",
      "39/39 [==============================] - 0s 2ms/step - loss: 1.4813 - accuracy: 0.3917 - val_loss: 1.2449 - val_accuracy: 0.5824\n",
      "Epoch 10/1000\n",
      " 1/39 [..............................] - ETA: 0s - loss: 1.4130 - accuracy: 0.4375\n",
      "Epoch 10: saving model to model/keypoint_classifier\\keypoint_classifier.hdf5\n",
      "39/39 [==============================] - 0s 2ms/step - loss: 1.4276 - accuracy: 0.4194 - val_loss: 1.1700 - val_accuracy: 0.6200\n",
      "Epoch 11/1000\n",
      " 1/39 [..............................] - ETA: 0s - loss: 1.3642 - accuracy: 0.4453\n",
      "Epoch 11: saving model to model/keypoint_classifier\\keypoint_classifier.hdf5\n",
      "39/39 [==============================] - 0s 2ms/step - loss: 1.3643 - accuracy: 0.4507 - val_loss: 1.0941 - val_accuracy: 0.6515\n",
      "Epoch 12/1000\n",
      " 1/39 [..............................] - ETA: 0s - loss: 1.2825 - accuracy: 0.4766\n",
      "Epoch 12: saving model to model/keypoint_classifier\\keypoint_classifier.hdf5\n",
      "39/39 [==============================] - 0s 3ms/step - loss: 1.3259 - accuracy: 0.4574 - val_loss: 1.0467 - val_accuracy: 0.6655\n",
      "Epoch 13/1000\n",
      " 1/39 [..............................] - ETA: 0s - loss: 1.3573 - accuracy: 0.4531\n",
      "Epoch 13: saving model to model/keypoint_classifier\\keypoint_classifier.hdf5\n",
      "39/39 [==============================] - 0s 3ms/step - loss: 1.2865 - accuracy: 0.4838 - val_loss: 0.9893 - val_accuracy: 0.7139\n",
      "Epoch 14/1000\n",
      " 1/39 [..............................] - ETA: 0s - loss: 1.2574 - accuracy: 0.4766\n",
      "Epoch 14: saving model to model/keypoint_classifier\\keypoint_classifier.hdf5\n",
      "39/39 [==============================] - 0s 2ms/step - loss: 1.2608 - accuracy: 0.4812 - val_loss: 0.9448 - val_accuracy: 0.7388\n",
      "Epoch 15/1000\n",
      " 1/39 [..............................] - ETA: 0s - loss: 1.2655 - accuracy: 0.5312\n",
      "Epoch 15: saving model to model/keypoint_classifier\\keypoint_classifier.hdf5\n",
      "39/39 [==============================] - 0s 3ms/step - loss: 1.2311 - accuracy: 0.5061 - val_loss: 0.9080 - val_accuracy: 0.7509\n",
      "Epoch 16/1000\n",
      " 1/39 [..............................] - ETA: 0s - loss: 1.1554 - accuracy: 0.5391\n",
      "Epoch 16: saving model to model/keypoint_classifier\\keypoint_classifier.hdf5\n",
      "39/39 [==============================] - 0s 2ms/step - loss: 1.1854 - accuracy: 0.5162 - val_loss: 0.8705 - val_accuracy: 0.7582\n",
      "Epoch 17/1000\n",
      " 1/39 [..............................] - ETA: 0s - loss: 1.1844 - accuracy: 0.5078\n",
      "Epoch 17: saving model to model/keypoint_classifier\\keypoint_classifier.hdf5\n",
      "39/39 [==============================] - 0s 2ms/step - loss: 1.1749 - accuracy: 0.5309 - val_loss: 0.8377 - val_accuracy: 0.7594\n",
      "Epoch 18/1000\n",
      "39/39 [==============================] - ETA: 0s - loss: 1.1417 - accuracy: 0.5428\n",
      "Epoch 18: saving model to model/keypoint_classifier\\keypoint_classifier.hdf5\n",
      "39/39 [==============================] - 0s 3ms/step - loss: 1.1417 - accuracy: 0.5428 - val_loss: 0.8094 - val_accuracy: 0.7915\n",
      "Epoch 19/1000\n",
      " 1/39 [..............................] - ETA: 0s - loss: 1.1877 - accuracy: 0.5078\n",
      "Epoch 19: saving model to model/keypoint_classifier\\keypoint_classifier.hdf5\n",
      "39/39 [==============================] - 0s 3ms/step - loss: 1.1323 - accuracy: 0.5513 - val_loss: 0.7843 - val_accuracy: 0.8012\n",
      "Epoch 20/1000\n",
      " 1/39 [..............................] - ETA: 0s - loss: 1.2378 - accuracy: 0.5078\n",
      "Epoch 20: saving model to model/keypoint_classifier\\keypoint_classifier.hdf5\n",
      "39/39 [==============================] - 0s 2ms/step - loss: 1.1182 - accuracy: 0.5501 - val_loss: 0.7611 - val_accuracy: 0.7994\n",
      "Epoch 21/1000\n",
      "39/39 [==============================] - ETA: 0s - loss: 1.0890 - accuracy: 0.5675\n",
      "Epoch 21: saving model to model/keypoint_classifier\\keypoint_classifier.hdf5\n",
      "39/39 [==============================] - 0s 2ms/step - loss: 1.0890 - accuracy: 0.5675 - val_loss: 0.7385 - val_accuracy: 0.8115\n",
      "Epoch 22/1000\n",
      " 1/39 [..............................] - ETA: 0s - loss: 1.1469 - accuracy: 0.5156\n",
      "Epoch 22: saving model to model/keypoint_classifier\\keypoint_classifier.hdf5\n",
      "39/39 [==============================] - 0s 2ms/step - loss: 1.1028 - accuracy: 0.5578 - val_loss: 0.7243 - val_accuracy: 0.8006\n",
      "Epoch 23/1000\n",
      " 1/39 [..............................] - ETA: 0s - loss: 1.0071 - accuracy: 0.6406\n",
      "Epoch 23: saving model to model/keypoint_classifier\\keypoint_classifier.hdf5\n",
      "39/39 [==============================] - 0s 2ms/step - loss: 1.0574 - accuracy: 0.5843 - val_loss: 0.7098 - val_accuracy: 0.8133\n",
      "Epoch 24/1000\n",
      " 1/39 [..............................] - ETA: 0s - loss: 1.0995 - accuracy: 0.5391\n",
      "Epoch 24: saving model to model/keypoint_classifier\\keypoint_classifier.hdf5\n",
      "39/39 [==============================] - 0s 2ms/step - loss: 1.0420 - accuracy: 0.5871 - val_loss: 0.6782 - val_accuracy: 0.8248\n",
      "Epoch 25/1000\n",
      " 1/39 [..............................] - ETA: 0s - loss: 1.1244 - accuracy: 0.5625\n",
      "Epoch 25: saving model to model/keypoint_classifier\\keypoint_classifier.hdf5\n",
      "39/39 [==============================] - 0s 2ms/step - loss: 1.0392 - accuracy: 0.5992 - val_loss: 0.6689 - val_accuracy: 0.8303\n",
      "Epoch 26/1000\n",
      " 1/39 [..............................] - ETA: 0s - loss: 1.0751 - accuracy: 0.6016\n",
      "Epoch 26: saving model to model/keypoint_classifier\\keypoint_classifier.hdf5\n",
      "39/39 [==============================] - 0s 3ms/step - loss: 1.0224 - accuracy: 0.6008 - val_loss: 0.6623 - val_accuracy: 0.8297\n",
      "Epoch 27/1000\n",
      " 1/39 [..............................] - ETA: 0s - loss: 1.0198 - accuracy: 0.6172\n",
      "Epoch 27: saving model to model/keypoint_classifier\\keypoint_classifier.hdf5\n",
      "39/39 [==============================] - 0s 2ms/step - loss: 1.0225 - accuracy: 0.6152 - val_loss: 0.6407 - val_accuracy: 0.8339\n",
      "Epoch 28/1000\n",
      " 1/39 [..............................] - ETA: 0s - loss: 1.0163 - accuracy: 0.5703\n",
      "Epoch 28: saving model to model/keypoint_classifier\\keypoint_classifier.hdf5\n",
      "39/39 [==============================] - 0s 2ms/step - loss: 1.0073 - accuracy: 0.6128 - val_loss: 0.6276 - val_accuracy: 0.8303\n",
      "Epoch 29/1000\n",
      " 1/39 [..............................] - ETA: 0s - loss: 0.8910 - accuracy: 0.6406\n",
      "Epoch 29: saving model to model/keypoint_classifier\\keypoint_classifier.hdf5\n",
      "39/39 [==============================] - 0s 3ms/step - loss: 1.0089 - accuracy: 0.6049 - val_loss: 0.6136 - val_accuracy: 0.8382\n",
      "Epoch 30/1000\n",
      " 1/39 [..............................] - ETA: 0s - loss: 1.0303 - accuracy: 0.6328\n",
      "Epoch 30: saving model to model/keypoint_classifier\\keypoint_classifier.hdf5\n",
      "39/39 [==============================] - 0s 3ms/step - loss: 0.9967 - accuracy: 0.6103 - val_loss: 0.6072 - val_accuracy: 0.8552\n",
      "Epoch 31/1000\n",
      " 1/39 [..............................] - ETA: 0s - loss: 0.8902 - accuracy: 0.6719\n",
      "Epoch 31: saving model to model/keypoint_classifier\\keypoint_classifier.hdf5\n",
      "39/39 [==============================] - 0s 2ms/step - loss: 0.9923 - accuracy: 0.6164 - val_loss: 0.5933 - val_accuracy: 0.8533\n",
      "Epoch 32/1000\n",
      " 1/39 [..............................] - ETA: 0s - loss: 0.9703 - accuracy: 0.6328\n",
      "Epoch 32: saving model to model/keypoint_classifier\\keypoint_classifier.hdf5\n",
      "39/39 [==============================] - 0s 2ms/step - loss: 0.9765 - accuracy: 0.6261 - val_loss: 0.5766 - val_accuracy: 0.8673\n",
      "Epoch 33/1000\n",
      " 1/39 [..............................] - ETA: 0s - loss: 1.0552 - accuracy: 0.5938\n",
      "Epoch 33: saving model to model/keypoint_classifier\\keypoint_classifier.hdf5\n",
      "39/39 [==============================] - 0s 2ms/step - loss: 0.9793 - accuracy: 0.6285 - val_loss: 0.5694 - val_accuracy: 0.8642\n",
      "Epoch 34/1000\n",
      " 1/39 [..............................] - ETA: 0s - loss: 0.9621 - accuracy: 0.6172\n",
      "Epoch 34: saving model to model/keypoint_classifier\\keypoint_classifier.hdf5\n",
      "39/39 [==============================] - 0s 2ms/step - loss: 0.9542 - accuracy: 0.6372 - val_loss: 0.5619 - val_accuracy: 0.8691\n",
      "Epoch 35/1000\n",
      " 1/39 [..............................] - ETA: 0s - loss: 1.0985 - accuracy: 0.5703\n",
      "Epoch 35: saving model to model/keypoint_classifier\\keypoint_classifier.hdf5\n",
      "39/39 [==============================] - 0s 2ms/step - loss: 0.9592 - accuracy: 0.6386 - val_loss: 0.5472 - val_accuracy: 0.8903\n",
      "Epoch 36/1000\n",
      "39/39 [==============================] - ETA: 0s - loss: 0.9304 - accuracy: 0.6431\n",
      "Epoch 36: saving model to model/keypoint_classifier\\keypoint_classifier.hdf5\n",
      "39/39 [==============================] - 0s 3ms/step - loss: 0.9304 - accuracy: 0.6431 - val_loss: 0.5412 - val_accuracy: 0.8776\n",
      "Epoch 37/1000\n",
      " 1/39 [..............................] - ETA: 0s - loss: 0.8278 - accuracy: 0.6172\n",
      "Epoch 37: saving model to model/keypoint_classifier\\keypoint_classifier.hdf5\n",
      "39/39 [==============================] - 0s 3ms/step - loss: 0.9362 - accuracy: 0.6419 - val_loss: 0.5353 - val_accuracy: 0.8903\n",
      "Epoch 38/1000\n",
      " 1/39 [..............................] - ETA: 0s - loss: 0.9454 - accuracy: 0.6641\n",
      "Epoch 38: saving model to model/keypoint_classifier\\keypoint_classifier.hdf5\n",
      "39/39 [==============================] - 0s 2ms/step - loss: 0.9398 - accuracy: 0.6522 - val_loss: 0.5265 - val_accuracy: 0.8970\n",
      "Epoch 39/1000\n",
      " 1/39 [..............................] - ETA: 0s - loss: 0.7951 - accuracy: 0.6797\n",
      "Epoch 39: saving model to model/keypoint_classifier\\keypoint_classifier.hdf5\n",
      "39/39 [==============================] - 0s 2ms/step - loss: 0.9384 - accuracy: 0.6487 - val_loss: 0.5261 - val_accuracy: 0.8970\n",
      "Epoch 40/1000\n",
      " 1/39 [..............................] - ETA: 0s - loss: 0.9320 - accuracy: 0.6875\n",
      "Epoch 40: saving model to model/keypoint_classifier\\keypoint_classifier.hdf5\n",
      "39/39 [==============================] - 0s 2ms/step - loss: 0.9302 - accuracy: 0.6431 - val_loss: 0.5292 - val_accuracy: 0.8758\n",
      "Epoch 41/1000\n",
      " 1/39 [..............................] - ETA: 0s - loss: 0.8238 - accuracy: 0.7188\n",
      "Epoch 41: saving model to model/keypoint_classifier\\keypoint_classifier.hdf5\n",
      "39/39 [==============================] - 0s 2ms/step - loss: 0.9171 - accuracy: 0.6550 - val_loss: 0.5117 - val_accuracy: 0.9030\n",
      "Epoch 42/1000\n",
      " 1/39 [..............................] - ETA: 0s - loss: 1.0029 - accuracy: 0.6406\n",
      "Epoch 42: saving model to model/keypoint_classifier\\keypoint_classifier.hdf5\n",
      "39/39 [==============================] - 0s 2ms/step - loss: 0.9092 - accuracy: 0.6613 - val_loss: 0.4933 - val_accuracy: 0.9061\n",
      "Epoch 43/1000\n",
      " 1/39 [..............................] - ETA: 0s - loss: 0.9360 - accuracy: 0.6484\n",
      "Epoch 43: saving model to model/keypoint_classifier\\keypoint_classifier.hdf5\n",
      "39/39 [==============================] - 0s 2ms/step - loss: 0.9055 - accuracy: 0.6528 - val_loss: 0.4922 - val_accuracy: 0.9055\n",
      "Epoch 44/1000\n",
      " 1/39 [..............................] - ETA: 0s - loss: 0.8524 - accuracy: 0.6797\n",
      "Epoch 44: saving model to model/keypoint_classifier\\keypoint_classifier.hdf5\n",
      "39/39 [==============================] - 0s 2ms/step - loss: 0.9125 - accuracy: 0.6605 - val_loss: 0.4992 - val_accuracy: 0.8976\n",
      "Epoch 45/1000\n",
      " 1/39 [..............................] - ETA: 0s - loss: 0.9069 - accuracy: 0.6797\n",
      "Epoch 45: saving model to model/keypoint_classifier\\keypoint_classifier.hdf5\n",
      "39/39 [==============================] - 0s 2ms/step - loss: 0.8928 - accuracy: 0.6704 - val_loss: 0.4793 - val_accuracy: 0.9164\n",
      "Epoch 46/1000\n",
      " 1/39 [..............................] - ETA: 0s - loss: 0.9132 - accuracy: 0.6484\n",
      "Epoch 46: saving model to model/keypoint_classifier\\keypoint_classifier.hdf5\n",
      "39/39 [==============================] - 0s 2ms/step - loss: 0.8860 - accuracy: 0.6708 - val_loss: 0.4788 - val_accuracy: 0.9188\n",
      "Epoch 47/1000\n",
      " 1/39 [..............................] - ETA: 0s - loss: 1.0482 - accuracy: 0.6172\n",
      "Epoch 47: saving model to model/keypoint_classifier\\keypoint_classifier.hdf5\n",
      "39/39 [==============================] - 0s 2ms/step - loss: 0.8780 - accuracy: 0.6621 - val_loss: 0.4835 - val_accuracy: 0.8921\n",
      "Epoch 48/1000\n",
      " 1/39 [..............................] - ETA: 0s - loss: 0.8394 - accuracy: 0.6953\n",
      "Epoch 48: saving model to model/keypoint_classifier\\keypoint_classifier.hdf5\n",
      "39/39 [==============================] - 0s 2ms/step - loss: 0.8791 - accuracy: 0.6722 - val_loss: 0.4808 - val_accuracy: 0.9061\n",
      "Epoch 49/1000\n",
      " 1/39 [..............................] - ETA: 0s - loss: 0.8781 - accuracy: 0.6484\n",
      "Epoch 49: saving model to model/keypoint_classifier\\keypoint_classifier.hdf5\n",
      "39/39 [==============================] - 0s 2ms/step - loss: 0.8897 - accuracy: 0.6619 - val_loss: 0.4655 - val_accuracy: 0.9218\n",
      "Epoch 50/1000\n",
      " 1/39 [..............................] - ETA: 0s - loss: 0.8745 - accuracy: 0.6406\n",
      "Epoch 50: saving model to model/keypoint_classifier\\keypoint_classifier.hdf5\n",
      "39/39 [==============================] - 0s 2ms/step - loss: 0.8716 - accuracy: 0.6710 - val_loss: 0.4588 - val_accuracy: 0.9206\n",
      "Epoch 51/1000\n",
      " 1/39 [..............................] - ETA: 0s - loss: 0.8849 - accuracy: 0.6797\n",
      "Epoch 51: saving model to model/keypoint_classifier\\keypoint_classifier.hdf5\n",
      "39/39 [==============================] - 0s 2ms/step - loss: 0.8712 - accuracy: 0.6684 - val_loss: 0.4649 - val_accuracy: 0.9188\n",
      "Epoch 52/1000\n",
      " 1/39 [..............................] - ETA: 0s - loss: 0.8682 - accuracy: 0.6250\n",
      "Epoch 52: saving model to model/keypoint_classifier\\keypoint_classifier.hdf5\n",
      "39/39 [==============================] - 0s 2ms/step - loss: 0.8818 - accuracy: 0.6673 - val_loss: 0.4582 - val_accuracy: 0.9206\n",
      "Epoch 53/1000\n",
      " 1/39 [..............................] - ETA: 0s - loss: 0.9016 - accuracy: 0.6484\n",
      "Epoch 53: saving model to model/keypoint_classifier\\keypoint_classifier.hdf5\n",
      "39/39 [==============================] - 0s 2ms/step - loss: 0.8836 - accuracy: 0.6730 - val_loss: 0.4581 - val_accuracy: 0.9194\n",
      "Epoch 54/1000\n",
      " 1/39 [..............................] - ETA: 0s - loss: 0.9128 - accuracy: 0.6875\n",
      "Epoch 54: saving model to model/keypoint_classifier\\keypoint_classifier.hdf5\n",
      "39/39 [==============================] - 0s 2ms/step - loss: 0.8407 - accuracy: 0.6908 - val_loss: 0.4466 - val_accuracy: 0.9248\n",
      "Epoch 55/1000\n",
      " 1/39 [..............................] - ETA: 0s - loss: 0.8684 - accuracy: 0.7344\n",
      "Epoch 55: saving model to model/keypoint_classifier\\keypoint_classifier.hdf5\n",
      "39/39 [==============================] - 0s 2ms/step - loss: 0.8630 - accuracy: 0.6839 - val_loss: 0.4600 - val_accuracy: 0.9109\n",
      "Epoch 56/1000\n",
      "38/39 [============================>.] - ETA: 0s - loss: 0.8464 - accuracy: 0.6877\n",
      "Epoch 56: saving model to model/keypoint_classifier\\keypoint_classifier.hdf5\n",
      "39/39 [==============================] - 0s 3ms/step - loss: 0.8469 - accuracy: 0.6876 - val_loss: 0.4367 - val_accuracy: 0.9297\n",
      "Epoch 57/1000\n",
      " 1/39 [..............................] - ETA: 0s - loss: 0.8751 - accuracy: 0.6250\n",
      "Epoch 57: saving model to model/keypoint_classifier\\keypoint_classifier.hdf5\n",
      "39/39 [==============================] - 0s 2ms/step - loss: 0.8327 - accuracy: 0.6855 - val_loss: 0.4429 - val_accuracy: 0.9315\n",
      "Epoch 58/1000\n",
      " 1/39 [..............................] - ETA: 0s - loss: 0.8417 - accuracy: 0.6875\n",
      "Epoch 58: saving model to model/keypoint_classifier\\keypoint_classifier.hdf5\n",
      "39/39 [==============================] - 0s 2ms/step - loss: 0.8705 - accuracy: 0.6752 - val_loss: 0.4363 - val_accuracy: 0.9303\n",
      "Epoch 59/1000\n",
      " 1/39 [..............................] - ETA: 0s - loss: 0.7923 - accuracy: 0.7188\n",
      "Epoch 59: saving model to model/keypoint_classifier\\keypoint_classifier.hdf5\n",
      "39/39 [==============================] - 0s 2ms/step - loss: 0.8446 - accuracy: 0.6960 - val_loss: 0.4283 - val_accuracy: 0.9327\n",
      "Epoch 60/1000\n",
      " 1/39 [..............................] - ETA: 0s - loss: 0.9217 - accuracy: 0.6641\n",
      "Epoch 60: saving model to model/keypoint_classifier\\keypoint_classifier.hdf5\n",
      "39/39 [==============================] - 0s 2ms/step - loss: 0.8772 - accuracy: 0.6783 - val_loss: 0.4398 - val_accuracy: 0.9315\n",
      "Epoch 61/1000\n",
      " 1/39 [..............................] - ETA: 0s - loss: 0.7319 - accuracy: 0.7109\n",
      "Epoch 61: saving model to model/keypoint_classifier\\keypoint_classifier.hdf5\n",
      "39/39 [==============================] - 0s 2ms/step - loss: 0.8547 - accuracy: 0.6888 - val_loss: 0.4238 - val_accuracy: 0.9364\n",
      "Epoch 62/1000\n",
      " 1/39 [..............................] - ETA: 0s - loss: 0.7856 - accuracy: 0.7031\n",
      "Epoch 62: saving model to model/keypoint_classifier\\keypoint_classifier.hdf5\n",
      "39/39 [==============================] - 0s 2ms/step - loss: 0.8591 - accuracy: 0.6821 - val_loss: 0.4388 - val_accuracy: 0.9291\n",
      "Epoch 63/1000\n",
      " 1/39 [..............................] - ETA: 0s - loss: 0.8233 - accuracy: 0.6406\n",
      "Epoch 63: saving model to model/keypoint_classifier\\keypoint_classifier.hdf5\n",
      "39/39 [==============================] - 0s 2ms/step - loss: 0.8184 - accuracy: 0.6983 - val_loss: 0.4071 - val_accuracy: 0.9406\n",
      "Epoch 64/1000\n",
      " 1/39 [..............................] - ETA: 0s - loss: 0.8325 - accuracy: 0.7266\n",
      "Epoch 64: saving model to model/keypoint_classifier\\keypoint_classifier.hdf5\n",
      "39/39 [==============================] - 0s 2ms/step - loss: 0.8245 - accuracy: 0.7053 - val_loss: 0.4160 - val_accuracy: 0.9394\n",
      "Epoch 65/1000\n",
      " 1/39 [..............................] - ETA: 0s - loss: 0.8844 - accuracy: 0.6328\n",
      "Epoch 65: saving model to model/keypoint_classifier\\keypoint_classifier.hdf5\n",
      "39/39 [==============================] - 0s 2ms/step - loss: 0.8357 - accuracy: 0.6950 - val_loss: 0.4167 - val_accuracy: 0.9442\n",
      "Epoch 66/1000\n",
      " 1/39 [..............................] - ETA: 0s - loss: 0.7551 - accuracy: 0.7109\n",
      "Epoch 66: saving model to model/keypoint_classifier\\keypoint_classifier.hdf5\n",
      "39/39 [==============================] - 0s 2ms/step - loss: 0.8340 - accuracy: 0.6894 - val_loss: 0.4180 - val_accuracy: 0.9382\n",
      "Epoch 67/1000\n",
      " 1/39 [..............................] - ETA: 0s - loss: 0.8257 - accuracy: 0.6875\n",
      "Epoch 67: saving model to model/keypoint_classifier\\keypoint_classifier.hdf5\n",
      "39/39 [==============================] - 0s 2ms/step - loss: 0.8263 - accuracy: 0.6950 - val_loss: 0.4080 - val_accuracy: 0.9455\n",
      "Epoch 68/1000\n",
      " 1/39 [..............................] - ETA: 0s - loss: 0.7769 - accuracy: 0.7422\n",
      "Epoch 68: saving model to model/keypoint_classifier\\keypoint_classifier.hdf5\n",
      "39/39 [==============================] - 0s 2ms/step - loss: 0.8474 - accuracy: 0.6867 - val_loss: 0.4166 - val_accuracy: 0.9388\n",
      "Epoch 69/1000\n",
      " 1/39 [..............................] - ETA: 0s - loss: 0.8855 - accuracy: 0.6406\n",
      "Epoch 69: saving model to model/keypoint_classifier\\keypoint_classifier.hdf5\n",
      "39/39 [==============================] - 0s 2ms/step - loss: 0.8160 - accuracy: 0.7003 - val_loss: 0.4012 - val_accuracy: 0.9436\n",
      "Epoch 70/1000\n",
      " 1/39 [..............................] - ETA: 0s - loss: 0.7271 - accuracy: 0.7656\n",
      "Epoch 70: saving model to model/keypoint_classifier\\keypoint_classifier.hdf5\n",
      "39/39 [==============================] - 0s 2ms/step - loss: 0.8162 - accuracy: 0.6936 - val_loss: 0.4029 - val_accuracy: 0.9436\n",
      "Epoch 71/1000\n",
      " 1/39 [..............................] - ETA: 0s - loss: 0.8635 - accuracy: 0.6484\n",
      "Epoch 71: saving model to model/keypoint_classifier\\keypoint_classifier.hdf5\n",
      "39/39 [==============================] - 0s 2ms/step - loss: 0.8262 - accuracy: 0.6924 - val_loss: 0.4085 - val_accuracy: 0.9400\n",
      "Epoch 72/1000\n",
      " 1/39 [..............................] - ETA: 0s - loss: 0.8820 - accuracy: 0.6641\n",
      "Epoch 72: saving model to model/keypoint_classifier\\keypoint_classifier.hdf5\n",
      "39/39 [==============================] - 0s 2ms/step - loss: 0.8151 - accuracy: 0.6966 - val_loss: 0.3981 - val_accuracy: 0.9448\n",
      "Epoch 73/1000\n",
      " 1/39 [..............................] - ETA: 0s - loss: 0.7621 - accuracy: 0.7109\n",
      "Epoch 73: saving model to model/keypoint_classifier\\keypoint_classifier.hdf5\n",
      "39/39 [==============================] - 0s 2ms/step - loss: 0.7986 - accuracy: 0.7009 - val_loss: 0.3984 - val_accuracy: 0.9485\n",
      "Epoch 74/1000\n",
      " 1/39 [..............................] - ETA: 0s - loss: 0.7840 - accuracy: 0.7031\n",
      "Epoch 74: saving model to model/keypoint_classifier\\keypoint_classifier.hdf5\n",
      "39/39 [==============================] - 0s 2ms/step - loss: 0.8184 - accuracy: 0.6946 - val_loss: 0.4133 - val_accuracy: 0.9333\n",
      "Epoch 75/1000\n",
      " 1/39 [..............................] - ETA: 0s - loss: 0.8453 - accuracy: 0.7109\n",
      "Epoch 75: saving model to model/keypoint_classifier\\keypoint_classifier.hdf5\n",
      "39/39 [==============================] - 0s 2ms/step - loss: 0.7885 - accuracy: 0.7146 - val_loss: 0.3981 - val_accuracy: 0.9370\n",
      "Epoch 76/1000\n",
      " 1/39 [..............................] - ETA: 0s - loss: 0.8539 - accuracy: 0.6719\n",
      "Epoch 76: saving model to model/keypoint_classifier\\keypoint_classifier.hdf5\n",
      "39/39 [==============================] - 0s 2ms/step - loss: 0.7993 - accuracy: 0.7055 - val_loss: 0.3996 - val_accuracy: 0.9370\n",
      "Epoch 77/1000\n",
      " 1/39 [..............................] - ETA: 0s - loss: 0.8474 - accuracy: 0.7031\n",
      "Epoch 77: saving model to model/keypoint_classifier\\keypoint_classifier.hdf5\n",
      "39/39 [==============================] - 0s 2ms/step - loss: 0.8195 - accuracy: 0.6912 - val_loss: 0.4001 - val_accuracy: 0.9455\n",
      "Epoch 78/1000\n",
      " 1/39 [..............................] - ETA: 0s - loss: 0.7704 - accuracy: 0.7500\n",
      "Epoch 78: saving model to model/keypoint_classifier\\keypoint_classifier.hdf5\n",
      "39/39 [==============================] - 0s 2ms/step - loss: 0.8273 - accuracy: 0.6977 - val_loss: 0.3995 - val_accuracy: 0.9448\n",
      "Epoch 79/1000\n",
      " 1/39 [..............................] - ETA: 0s - loss: 0.7648 - accuracy: 0.7500\n",
      "Epoch 79: saving model to model/keypoint_classifier\\keypoint_classifier.hdf5\n",
      "39/39 [==============================] - 0s 2ms/step - loss: 0.7931 - accuracy: 0.7148 - val_loss: 0.3920 - val_accuracy: 0.9467\n",
      "Epoch 80/1000\n",
      " 1/39 [..............................] - ETA: 0s - loss: 0.8596 - accuracy: 0.7422\n",
      "Epoch 80: saving model to model/keypoint_classifier\\keypoint_classifier.hdf5\n",
      "39/39 [==============================] - 0s 2ms/step - loss: 0.8039 - accuracy: 0.7070 - val_loss: 0.3909 - val_accuracy: 0.9406\n",
      "Epoch 81/1000\n",
      " 1/39 [..............................] - ETA: 0s - loss: 0.8589 - accuracy: 0.6953\n",
      "Epoch 81: saving model to model/keypoint_classifier\\keypoint_classifier.hdf5\n",
      "39/39 [==============================] - 0s 2ms/step - loss: 0.7898 - accuracy: 0.7112 - val_loss: 0.3817 - val_accuracy: 0.9479\n",
      "Epoch 82/1000\n",
      " 1/39 [..............................] - ETA: 0s - loss: 0.7111 - accuracy: 0.7656\n",
      "Epoch 82: saving model to model/keypoint_classifier\\keypoint_classifier.hdf5\n",
      "39/39 [==============================] - 0s 2ms/step - loss: 0.7825 - accuracy: 0.7189 - val_loss: 0.3873 - val_accuracy: 0.9412\n",
      "Epoch 83/1000\n",
      " 1/39 [..............................] - ETA: 0s - loss: 0.8318 - accuracy: 0.7109\n",
      "Epoch 83: saving model to model/keypoint_classifier\\keypoint_classifier.hdf5\n",
      "39/39 [==============================] - 0s 2ms/step - loss: 0.7865 - accuracy: 0.7213 - val_loss: 0.3828 - val_accuracy: 0.9473\n",
      "Epoch 84/1000\n",
      " 1/39 [..............................] - ETA: 0s - loss: 0.7856 - accuracy: 0.6875\n",
      "Epoch 84: saving model to model/keypoint_classifier\\keypoint_classifier.hdf5\n",
      "39/39 [==============================] - 0s 2ms/step - loss: 0.7820 - accuracy: 0.7175 - val_loss: 0.3820 - val_accuracy: 0.9436\n",
      "Epoch 85/1000\n",
      " 1/39 [..............................] - ETA: 0s - loss: 0.7473 - accuracy: 0.7109\n",
      "Epoch 85: saving model to model/keypoint_classifier\\keypoint_classifier.hdf5\n",
      "39/39 [==============================] - 0s 2ms/step - loss: 0.7882 - accuracy: 0.7072 - val_loss: 0.3850 - val_accuracy: 0.9442\n",
      "Epoch 86/1000\n",
      " 1/39 [..............................] - ETA: 0s - loss: 0.7514 - accuracy: 0.6953\n",
      "Epoch 86: saving model to model/keypoint_classifier\\keypoint_classifier.hdf5\n",
      "39/39 [==============================] - 0s 2ms/step - loss: 0.8109 - accuracy: 0.7080 - val_loss: 0.3803 - val_accuracy: 0.9461\n",
      "Epoch 87/1000\n",
      " 1/39 [..............................] - ETA: 0s - loss: 0.8190 - accuracy: 0.7031\n",
      "Epoch 87: saving model to model/keypoint_classifier\\keypoint_classifier.hdf5\n",
      "39/39 [==============================] - 0s 2ms/step - loss: 0.8068 - accuracy: 0.7102 - val_loss: 0.4005 - val_accuracy: 0.9352\n",
      "Epoch 88/1000\n",
      " 1/39 [..............................] - ETA: 0s - loss: 0.9326 - accuracy: 0.6484\n",
      "Epoch 88: saving model to model/keypoint_classifier\\keypoint_classifier.hdf5\n",
      "39/39 [==============================] - 0s 2ms/step - loss: 0.7934 - accuracy: 0.7059 - val_loss: 0.3837 - val_accuracy: 0.9418\n",
      "Epoch 89/1000\n",
      " 1/39 [..............................] - ETA: 0s - loss: 0.9893 - accuracy: 0.6641\n",
      "Epoch 89: saving model to model/keypoint_classifier\\keypoint_classifier.hdf5\n",
      "39/39 [==============================] - 0s 2ms/step - loss: 0.7902 - accuracy: 0.7162 - val_loss: 0.3725 - val_accuracy: 0.9442\n",
      "Epoch 90/1000\n",
      "38/39 [============================>.] - ETA: 0s - loss: 0.7915 - accuracy: 0.7153\n",
      "Epoch 90: saving model to model/keypoint_classifier\\keypoint_classifier.hdf5\n",
      "39/39 [==============================] - 0s 3ms/step - loss: 0.7944 - accuracy: 0.7146 - val_loss: 0.3873 - val_accuracy: 0.9461\n",
      "Epoch 91/1000\n",
      " 1/39 [..............................] - ETA: 0s - loss: 0.6997 - accuracy: 0.7734\n",
      "Epoch 91: saving model to model/keypoint_classifier\\keypoint_classifier.hdf5\n",
      "39/39 [==============================] - 0s 2ms/step - loss: 0.7873 - accuracy: 0.7193 - val_loss: 0.3772 - val_accuracy: 0.9473\n",
      "Epoch 92/1000\n",
      " 1/39 [..............................] - ETA: 0s - loss: 0.8401 - accuracy: 0.6953\n",
      "Epoch 92: saving model to model/keypoint_classifier\\keypoint_classifier.hdf5\n",
      "39/39 [==============================] - 0s 2ms/step - loss: 0.7767 - accuracy: 0.7138 - val_loss: 0.3746 - val_accuracy: 0.9473\n",
      "Epoch 93/1000\n",
      " 1/39 [..............................] - ETA: 0s - loss: 0.8556 - accuracy: 0.6875\n",
      "Epoch 93: saving model to model/keypoint_classifier\\keypoint_classifier.hdf5\n",
      "39/39 [==============================] - 0s 2ms/step - loss: 0.7916 - accuracy: 0.7108 - val_loss: 0.3835 - val_accuracy: 0.9436\n",
      "Epoch 94/1000\n",
      " 1/39 [..............................] - ETA: 0s - loss: 0.8064 - accuracy: 0.6953\n",
      "Epoch 94: saving model to model/keypoint_classifier\\keypoint_classifier.hdf5\n",
      "39/39 [==============================] - 0s 2ms/step - loss: 0.7806 - accuracy: 0.7150 - val_loss: 0.3801 - val_accuracy: 0.9461\n",
      "Epoch 95/1000\n",
      " 1/39 [..............................] - ETA: 0s - loss: 0.7621 - accuracy: 0.7266\n",
      "Epoch 95: saving model to model/keypoint_classifier\\keypoint_classifier.hdf5\n",
      "39/39 [==============================] - 0s 2ms/step - loss: 0.7815 - accuracy: 0.7132 - val_loss: 0.3889 - val_accuracy: 0.9400\n",
      "Epoch 96/1000\n",
      " 1/39 [..............................] - ETA: 0s - loss: 0.8560 - accuracy: 0.6406\n",
      "Epoch 96: saving model to model/keypoint_classifier\\keypoint_classifier.hdf5\n",
      "39/39 [==============================] - 0s 2ms/step - loss: 0.7772 - accuracy: 0.7193 - val_loss: 0.3734 - val_accuracy: 0.9455\n",
      "Epoch 97/1000\n",
      " 1/39 [..............................] - ETA: 0s - loss: 0.8593 - accuracy: 0.6875\n",
      "Epoch 97: saving model to model/keypoint_classifier\\keypoint_classifier.hdf5\n",
      "39/39 [==============================] - 0s 2ms/step - loss: 0.7838 - accuracy: 0.7142 - val_loss: 0.3765 - val_accuracy: 0.9436\n",
      "Epoch 98/1000\n",
      " 1/39 [..............................] - ETA: 0s - loss: 0.7826 - accuracy: 0.7500\n",
      "Epoch 98: saving model to model/keypoint_classifier\\keypoint_classifier.hdf5\n",
      "39/39 [==============================] - 0s 2ms/step - loss: 0.7794 - accuracy: 0.7146 - val_loss: 0.3777 - val_accuracy: 0.9406\n",
      "Epoch 99/1000\n",
      " 1/39 [..............................] - ETA: 0s - loss: 0.8795 - accuracy: 0.6641\n",
      "Epoch 99: saving model to model/keypoint_classifier\\keypoint_classifier.hdf5\n",
      "39/39 [==============================] - 0s 2ms/step - loss: 0.8028 - accuracy: 0.7088 - val_loss: 0.3761 - val_accuracy: 0.9424\n",
      "Epoch 100/1000\n",
      " 1/39 [..............................] - ETA: 0s - loss: 0.8275 - accuracy: 0.7266\n",
      "Epoch 100: saving model to model/keypoint_classifier\\keypoint_classifier.hdf5\n",
      "39/39 [==============================] - 0s 2ms/step - loss: 0.7867 - accuracy: 0.7112 - val_loss: 0.3732 - val_accuracy: 0.9406\n",
      "Epoch 101/1000\n",
      " 1/39 [..............................] - ETA: 0s - loss: 0.8215 - accuracy: 0.6797\n",
      "Epoch 101: saving model to model/keypoint_classifier\\keypoint_classifier.hdf5\n",
      "39/39 [==============================] - 0s 2ms/step - loss: 0.7696 - accuracy: 0.7154 - val_loss: 0.3712 - val_accuracy: 0.9448\n",
      "Epoch 102/1000\n",
      " 1/39 [..............................] - ETA: 0s - loss: 0.7040 - accuracy: 0.7578\n",
      "Epoch 102: saving model to model/keypoint_classifier\\keypoint_classifier.hdf5\n",
      "39/39 [==============================] - 0s 2ms/step - loss: 0.7619 - accuracy: 0.7233 - val_loss: 0.3654 - val_accuracy: 0.9467\n",
      "Epoch 103/1000\n",
      " 1/39 [..............................] - ETA: 0s - loss: 0.7377 - accuracy: 0.7266\n",
      "Epoch 103: saving model to model/keypoint_classifier\\keypoint_classifier.hdf5\n",
      "39/39 [==============================] - 0s 2ms/step - loss: 0.7725 - accuracy: 0.7144 - val_loss: 0.3669 - val_accuracy: 0.9424\n",
      "Epoch 104/1000\n",
      " 1/39 [..............................] - ETA: 0s - loss: 0.7512 - accuracy: 0.7031\n",
      "Epoch 104: saving model to model/keypoint_classifier\\keypoint_classifier.hdf5\n",
      "39/39 [==============================] - 0s 2ms/step - loss: 0.7572 - accuracy: 0.7276 - val_loss: 0.3636 - val_accuracy: 0.9406\n",
      "Epoch 105/1000\n",
      " 1/39 [..............................] - ETA: 0s - loss: 0.7318 - accuracy: 0.7812\n",
      "Epoch 105: saving model to model/keypoint_classifier\\keypoint_classifier.hdf5\n",
      "39/39 [==============================] - 0s 2ms/step - loss: 0.7857 - accuracy: 0.7082 - val_loss: 0.3748 - val_accuracy: 0.9364\n",
      "Epoch 106/1000\n",
      " 1/39 [..............................] - ETA: 0s - loss: 0.6052 - accuracy: 0.7812\n",
      "Epoch 106: saving model to model/keypoint_classifier\\keypoint_classifier.hdf5\n",
      "39/39 [==============================] - 0s 2ms/step - loss: 0.7500 - accuracy: 0.7249 - val_loss: 0.3631 - val_accuracy: 0.9461\n",
      "Epoch 107/1000\n",
      " 1/39 [..............................] - ETA: 0s - loss: 0.7700 - accuracy: 0.7188\n",
      "Epoch 107: saving model to model/keypoint_classifier\\keypoint_classifier.hdf5\n",
      "39/39 [==============================] - 0s 2ms/step - loss: 0.7670 - accuracy: 0.7160 - val_loss: 0.3724 - val_accuracy: 0.9455\n",
      "Epoch 108/1000\n",
      " 1/39 [..............................] - ETA: 0s - loss: 0.8140 - accuracy: 0.7188\n",
      "Epoch 108: saving model to model/keypoint_classifier\\keypoint_classifier.hdf5\n",
      "39/39 [==============================] - 0s 2ms/step - loss: 0.7661 - accuracy: 0.7189 - val_loss: 0.3647 - val_accuracy: 0.9442\n",
      "Epoch 109/1000\n",
      " 1/39 [..............................] - ETA: 0s - loss: 0.7432 - accuracy: 0.7266\n",
      "Epoch 109: saving model to model/keypoint_classifier\\keypoint_classifier.hdf5\n",
      "39/39 [==============================] - 0s 2ms/step - loss: 0.7650 - accuracy: 0.7187 - val_loss: 0.3649 - val_accuracy: 0.9388\n",
      "Epoch 110/1000\n",
      " 1/39 [..............................] - ETA: 0s - loss: 0.7810 - accuracy: 0.6641\n",
      "Epoch 110: saving model to model/keypoint_classifier\\keypoint_classifier.hdf5\n",
      "39/39 [==============================] - 0s 2ms/step - loss: 0.7649 - accuracy: 0.7213 - val_loss: 0.3650 - val_accuracy: 0.9394\n",
      "Epoch 111/1000\n",
      " 1/39 [..............................] - ETA: 0s - loss: 0.8256 - accuracy: 0.6719\n",
      "Epoch 111: saving model to model/keypoint_classifier\\keypoint_classifier.hdf5\n",
      "39/39 [==============================] - 0s 2ms/step - loss: 0.7709 - accuracy: 0.7114 - val_loss: 0.3643 - val_accuracy: 0.9406\n",
      "Epoch 112/1000\n",
      " 1/39 [..............................] - ETA: 0s - loss: 0.6199 - accuracy: 0.7578\n",
      "Epoch 112: saving model to model/keypoint_classifier\\keypoint_classifier.hdf5\n",
      "39/39 [==============================] - 0s 2ms/step - loss: 0.7472 - accuracy: 0.7270 - val_loss: 0.3514 - val_accuracy: 0.9448\n",
      "Epoch 113/1000\n",
      "39/39 [==============================] - ETA: 0s - loss: 0.7718 - accuracy: 0.7158\n",
      "Epoch 113: saving model to model/keypoint_classifier\\keypoint_classifier.hdf5\n",
      "39/39 [==============================] - 0s 2ms/step - loss: 0.7718 - accuracy: 0.7158 - val_loss: 0.3598 - val_accuracy: 0.9430\n",
      "Epoch 114/1000\n",
      " 1/39 [..............................] - ETA: 0s - loss: 0.9229 - accuracy: 0.7812\n",
      "Epoch 114: saving model to model/keypoint_classifier\\keypoint_classifier.hdf5\n",
      "39/39 [==============================] - 0s 2ms/step - loss: 0.7568 - accuracy: 0.7237 - val_loss: 0.3555 - val_accuracy: 0.9461\n",
      "Epoch 115/1000\n",
      " 1/39 [..............................] - ETA: 0s - loss: 0.6438 - accuracy: 0.7734\n",
      "Epoch 115: saving model to model/keypoint_classifier\\keypoint_classifier.hdf5\n",
      "39/39 [==============================] - 0s 2ms/step - loss: 0.7657 - accuracy: 0.7183 - val_loss: 0.3605 - val_accuracy: 0.9455\n",
      "Epoch 116/1000\n",
      " 1/39 [..............................] - ETA: 0s - loss: 0.6124 - accuracy: 0.7891\n",
      "Epoch 116: saving model to model/keypoint_classifier\\keypoint_classifier.hdf5\n",
      "39/39 [==============================] - 0s 2ms/step - loss: 0.7688 - accuracy: 0.7193 - val_loss: 0.3587 - val_accuracy: 0.9448\n",
      "Epoch 117/1000\n",
      " 1/39 [..............................] - ETA: 0s - loss: 0.7171 - accuracy: 0.7266\n",
      "Epoch 117: saving model to model/keypoint_classifier\\keypoint_classifier.hdf5\n",
      "39/39 [==============================] - 0s 2ms/step - loss: 0.7586 - accuracy: 0.7193 - val_loss: 0.3624 - val_accuracy: 0.9442\n",
      "Epoch 118/1000\n",
      " 1/39 [..............................] - ETA: 0s - loss: 0.7198 - accuracy: 0.6797\n",
      "Epoch 118: saving model to model/keypoint_classifier\\keypoint_classifier.hdf5\n",
      "39/39 [==============================] - 0s 2ms/step - loss: 0.7351 - accuracy: 0.7284 - val_loss: 0.3599 - val_accuracy: 0.9418\n",
      "Epoch 119/1000\n",
      " 1/39 [..............................] - ETA: 0s - loss: 0.8683 - accuracy: 0.6641\n",
      "Epoch 119: saving model to model/keypoint_classifier\\keypoint_classifier.hdf5\n",
      "39/39 [==============================] - 0s 2ms/step - loss: 0.7646 - accuracy: 0.7201 - val_loss: 0.3714 - val_accuracy: 0.9339\n",
      "Epoch 120/1000\n",
      " 1/39 [..............................] - ETA: 0s - loss: 0.7252 - accuracy: 0.7422\n",
      "Epoch 120: saving model to model/keypoint_classifier\\keypoint_classifier.hdf5\n",
      "39/39 [==============================] - 0s 2ms/step - loss: 0.7754 - accuracy: 0.7177 - val_loss: 0.3666 - val_accuracy: 0.9358\n",
      "Epoch 121/1000\n",
      " 1/39 [..............................] - ETA: 0s - loss: 0.8688 - accuracy: 0.6953\n",
      "Epoch 121: saving model to model/keypoint_classifier\\keypoint_classifier.hdf5\n",
      "39/39 [==============================] - 0s 2ms/step - loss: 0.7567 - accuracy: 0.7162 - val_loss: 0.3697 - val_accuracy: 0.9358\n",
      "Epoch 122/1000\n",
      " 1/39 [..............................] - ETA: 0s - loss: 0.7435 - accuracy: 0.7109\n",
      "Epoch 122: saving model to model/keypoint_classifier\\keypoint_classifier.hdf5\n",
      "39/39 [==============================] - 0s 2ms/step - loss: 0.7616 - accuracy: 0.7243 - val_loss: 0.3556 - val_accuracy: 0.9358\n",
      "Epoch 123/1000\n",
      " 1/39 [..............................] - ETA: 0s - loss: 0.8081 - accuracy: 0.6953\n",
      "Epoch 123: saving model to model/keypoint_classifier\\keypoint_classifier.hdf5\n",
      "39/39 [==============================] - 0s 2ms/step - loss: 0.7568 - accuracy: 0.7225 - val_loss: 0.3527 - val_accuracy: 0.9436\n",
      "Epoch 124/1000\n",
      " 1/39 [..............................] - ETA: 0s - loss: 0.8593 - accuracy: 0.7188\n",
      "Epoch 124: saving model to model/keypoint_classifier\\keypoint_classifier.hdf5\n",
      "39/39 [==============================] - 0s 2ms/step - loss: 0.7478 - accuracy: 0.7268 - val_loss: 0.3558 - val_accuracy: 0.9448\n",
      "Epoch 125/1000\n",
      " 1/39 [..............................] - ETA: 0s - loss: 0.7263 - accuracy: 0.7734\n",
      "Epoch 125: saving model to model/keypoint_classifier\\keypoint_classifier.hdf5\n",
      "39/39 [==============================] - 0s 2ms/step - loss: 0.7663 - accuracy: 0.7201 - val_loss: 0.3660 - val_accuracy: 0.9352\n",
      "Epoch 126/1000\n",
      " 1/39 [..............................] - ETA: 0s - loss: 0.7043 - accuracy: 0.7578\n",
      "Epoch 126: saving model to model/keypoint_classifier\\keypoint_classifier.hdf5\n",
      "39/39 [==============================] - 0s 2ms/step - loss: 0.7423 - accuracy: 0.7290 - val_loss: 0.3604 - val_accuracy: 0.9370\n",
      "Epoch 127/1000\n",
      " 1/39 [..............................] - ETA: 0s - loss: 0.7434 - accuracy: 0.7266\n",
      "Epoch 127: saving model to model/keypoint_classifier\\keypoint_classifier.hdf5\n",
      "39/39 [==============================] - 0s 2ms/step - loss: 0.7452 - accuracy: 0.7342 - val_loss: 0.3496 - val_accuracy: 0.9485\n",
      "Epoch 128/1000\n",
      " 1/39 [..............................] - ETA: 0s - loss: 0.6935 - accuracy: 0.7656\n",
      "Epoch 128: saving model to model/keypoint_classifier\\keypoint_classifier.hdf5\n",
      "39/39 [==============================] - 0s 2ms/step - loss: 0.7641 - accuracy: 0.7306 - val_loss: 0.3581 - val_accuracy: 0.9412\n",
      "Epoch 129/1000\n",
      "39/39 [==============================] - ETA: 0s - loss: 0.7623 - accuracy: 0.7207\n",
      "Epoch 129: saving model to model/keypoint_classifier\\keypoint_classifier.hdf5\n",
      "39/39 [==============================] - 0s 2ms/step - loss: 0.7623 - accuracy: 0.7207 - val_loss: 0.3649 - val_accuracy: 0.9370\n",
      "Epoch 130/1000\n",
      " 1/39 [..............................] - ETA: 0s - loss: 0.7751 - accuracy: 0.7188\n",
      "Epoch 130: saving model to model/keypoint_classifier\\keypoint_classifier.hdf5\n",
      "39/39 [==============================] - 0s 2ms/step - loss: 0.7200 - accuracy: 0.7326 - val_loss: 0.3494 - val_accuracy: 0.9418\n",
      "Epoch 131/1000\n",
      " 1/39 [..............................] - ETA: 0s - loss: 0.6763 - accuracy: 0.7656\n",
      "Epoch 131: saving model to model/keypoint_classifier\\keypoint_classifier.hdf5\n",
      "39/39 [==============================] - 0s 2ms/step - loss: 0.7268 - accuracy: 0.7359 - val_loss: 0.3486 - val_accuracy: 0.9394\n",
      "Epoch 132/1000\n",
      " 1/39 [..............................] - ETA: 0s - loss: 0.7911 - accuracy: 0.7188\n",
      "Epoch 132: saving model to model/keypoint_classifier\\keypoint_classifier.hdf5\n",
      "39/39 [==============================] - 0s 2ms/step - loss: 0.7348 - accuracy: 0.7284 - val_loss: 0.3499 - val_accuracy: 0.9418\n",
      "Epoch 133/1000\n",
      " 1/39 [..............................] - ETA: 0s - loss: 0.8759 - accuracy: 0.6641\n",
      "Epoch 133: saving model to model/keypoint_classifier\\keypoint_classifier.hdf5\n",
      "39/39 [==============================] - 0s 2ms/step - loss: 0.7495 - accuracy: 0.7223 - val_loss: 0.3518 - val_accuracy: 0.9430\n",
      "Epoch 134/1000\n",
      " 1/39 [..............................] - ETA: 0s - loss: 0.7013 - accuracy: 0.7344\n",
      "Epoch 134: saving model to model/keypoint_classifier\\keypoint_classifier.hdf5\n",
      "39/39 [==============================] - 0s 2ms/step - loss: 0.7603 - accuracy: 0.7223 - val_loss: 0.3515 - val_accuracy: 0.9418\n",
      "Epoch 135/1000\n",
      " 1/39 [..............................] - ETA: 0s - loss: 0.6904 - accuracy: 0.7500\n",
      "Epoch 135: saving model to model/keypoint_classifier\\keypoint_classifier.hdf5\n",
      "39/39 [==============================] - 0s 2ms/step - loss: 0.7432 - accuracy: 0.7312 - val_loss: 0.3515 - val_accuracy: 0.9485\n",
      "Epoch 136/1000\n",
      " 1/39 [..............................] - ETA: 0s - loss: 0.6481 - accuracy: 0.7578\n",
      "Epoch 136: saving model to model/keypoint_classifier\\keypoint_classifier.hdf5\n",
      "39/39 [==============================] - 0s 2ms/step - loss: 0.7513 - accuracy: 0.7286 - val_loss: 0.3456 - val_accuracy: 0.9424\n",
      "Epoch 137/1000\n",
      " 1/39 [..............................] - ETA: 0s - loss: 0.8643 - accuracy: 0.6875\n",
      "Epoch 137: saving model to model/keypoint_classifier\\keypoint_classifier.hdf5\n",
      "39/39 [==============================] - 0s 2ms/step - loss: 0.7473 - accuracy: 0.7229 - val_loss: 0.3489 - val_accuracy: 0.9424\n",
      "Epoch 138/1000\n",
      " 1/39 [..............................] - ETA: 0s - loss: 0.6995 - accuracy: 0.7344\n",
      "Epoch 138: saving model to model/keypoint_classifier\\keypoint_classifier.hdf5\n",
      "39/39 [==============================] - 0s 2ms/step - loss: 0.7406 - accuracy: 0.7334 - val_loss: 0.3510 - val_accuracy: 0.9467\n",
      "Epoch 139/1000\n",
      " 1/39 [..............................] - ETA: 0s - loss: 0.6169 - accuracy: 0.7578\n",
      "Epoch 139: saving model to model/keypoint_classifier\\keypoint_classifier.hdf5\n",
      "39/39 [==============================] - 0s 2ms/step - loss: 0.7551 - accuracy: 0.7231 - val_loss: 0.3595 - val_accuracy: 0.9418\n",
      "Epoch 140/1000\n",
      " 1/39 [..............................] - ETA: 0s - loss: 0.6096 - accuracy: 0.7656\n",
      "Epoch 140: saving model to model/keypoint_classifier\\keypoint_classifier.hdf5\n",
      "39/39 [==============================] - 0s 2ms/step - loss: 0.7469 - accuracy: 0.7310 - val_loss: 0.3516 - val_accuracy: 0.9461\n",
      "Epoch 141/1000\n",
      " 1/39 [..............................] - ETA: 0s - loss: 0.6505 - accuracy: 0.7812\n",
      "Epoch 141: saving model to model/keypoint_classifier\\keypoint_classifier.hdf5\n",
      "39/39 [==============================] - 0s 2ms/step - loss: 0.7632 - accuracy: 0.7197 - val_loss: 0.3508 - val_accuracy: 0.9485\n",
      "Epoch 142/1000\n",
      " 1/39 [..............................] - ETA: 0s - loss: 0.6850 - accuracy: 0.7500\n",
      "Epoch 142: saving model to model/keypoint_classifier\\keypoint_classifier.hdf5\n",
      "39/39 [==============================] - 0s 2ms/step - loss: 0.7536 - accuracy: 0.7270 - val_loss: 0.3520 - val_accuracy: 0.9412\n",
      "Epoch 143/1000\n",
      " 1/39 [..............................] - ETA: 0s - loss: 0.8683 - accuracy: 0.7109\n",
      "Epoch 143: saving model to model/keypoint_classifier\\keypoint_classifier.hdf5\n",
      "39/39 [==============================] - 0s 2ms/step - loss: 0.7356 - accuracy: 0.7304 - val_loss: 0.3422 - val_accuracy: 0.9400\n",
      "Epoch 144/1000\n",
      " 1/39 [..............................] - ETA: 0s - loss: 0.7324 - accuracy: 0.7422\n",
      "Epoch 144: saving model to model/keypoint_classifier\\keypoint_classifier.hdf5\n",
      "39/39 [==============================] - 0s 2ms/step - loss: 0.7508 - accuracy: 0.7259 - val_loss: 0.3439 - val_accuracy: 0.9491\n",
      "Epoch 145/1000\n",
      " 1/39 [..............................] - ETA: 0s - loss: 0.6689 - accuracy: 0.7500\n",
      "Epoch 145: saving model to model/keypoint_classifier\\keypoint_classifier.hdf5\n",
      "39/39 [==============================] - 0s 2ms/step - loss: 0.7502 - accuracy: 0.7233 - val_loss: 0.3510 - val_accuracy: 0.9467\n",
      "Epoch 146/1000\n",
      " 1/39 [..............................] - ETA: 0s - loss: 0.8147 - accuracy: 0.7031\n",
      "Epoch 146: saving model to model/keypoint_classifier\\keypoint_classifier.hdf5\n",
      "39/39 [==============================] - 0s 2ms/step - loss: 0.7593 - accuracy: 0.7207 - val_loss: 0.3471 - val_accuracy: 0.9473\n",
      "Epoch 147/1000\n",
      " 1/39 [..............................] - ETA: 0s - loss: 0.7730 - accuracy: 0.7266\n",
      "Epoch 147: saving model to model/keypoint_classifier\\keypoint_classifier.hdf5\n",
      "39/39 [==============================] - 0s 2ms/step - loss: 0.7461 - accuracy: 0.7247 - val_loss: 0.3455 - val_accuracy: 0.9430\n",
      "Epoch 148/1000\n",
      " 1/39 [..............................] - ETA: 0s - loss: 0.8168 - accuracy: 0.7109\n",
      "Epoch 148: saving model to model/keypoint_classifier\\keypoint_classifier.hdf5\n",
      "39/39 [==============================] - 0s 2ms/step - loss: 0.7532 - accuracy: 0.7243 - val_loss: 0.3438 - val_accuracy: 0.9442\n",
      "Epoch 149/1000\n",
      " 1/39 [..............................] - ETA: 0s - loss: 0.8634 - accuracy: 0.6641\n",
      "Epoch 149: saving model to model/keypoint_classifier\\keypoint_classifier.hdf5\n",
      "39/39 [==============================] - 0s 2ms/step - loss: 0.7338 - accuracy: 0.7312 - val_loss: 0.3447 - val_accuracy: 0.9509\n",
      "Epoch 150/1000\n",
      " 1/39 [..............................] - ETA: 0s - loss: 0.7322 - accuracy: 0.7188\n",
      "Epoch 150: saving model to model/keypoint_classifier\\keypoint_classifier.hdf5\n",
      "39/39 [==============================] - 0s 2ms/step - loss: 0.7296 - accuracy: 0.7377 - val_loss: 0.3490 - val_accuracy: 0.9479\n",
      "Epoch 151/1000\n",
      " 1/39 [..............................] - ETA: 0s - loss: 0.6625 - accuracy: 0.7891\n",
      "Epoch 151: saving model to model/keypoint_classifier\\keypoint_classifier.hdf5\n",
      "39/39 [==============================] - 0s 2ms/step - loss: 0.7351 - accuracy: 0.7381 - val_loss: 0.3500 - val_accuracy: 0.9448\n",
      "Epoch 152/1000\n",
      " 1/39 [..............................] - ETA: 0s - loss: 0.7739 - accuracy: 0.7109\n",
      "Epoch 152: saving model to model/keypoint_classifier\\keypoint_classifier.hdf5\n",
      "39/39 [==============================] - 0s 2ms/step - loss: 0.7382 - accuracy: 0.7294 - val_loss: 0.3474 - val_accuracy: 0.9455\n",
      "Epoch 153/1000\n",
      " 1/39 [..............................] - ETA: 0s - loss: 0.8180 - accuracy: 0.7266\n",
      "Epoch 153: saving model to model/keypoint_classifier\\keypoint_classifier.hdf5\n",
      "39/39 [==============================] - 0s 2ms/step - loss: 0.7403 - accuracy: 0.7346 - val_loss: 0.3428 - val_accuracy: 0.9473\n",
      "Epoch 154/1000\n",
      " 1/39 [..............................] - ETA: 0s - loss: 0.6758 - accuracy: 0.7500\n",
      "Epoch 154: saving model to model/keypoint_classifier\\keypoint_classifier.hdf5\n",
      "39/39 [==============================] - 0s 2ms/step - loss: 0.7283 - accuracy: 0.7280 - val_loss: 0.3330 - val_accuracy: 0.9515\n",
      "Epoch 155/1000\n",
      " 1/39 [..............................] - ETA: 0s - loss: 0.8615 - accuracy: 0.7031\n",
      "Epoch 155: saving model to model/keypoint_classifier\\keypoint_classifier.hdf5\n",
      "39/39 [==============================] - 0s 2ms/step - loss: 0.7674 - accuracy: 0.7179 - val_loss: 0.3636 - val_accuracy: 0.9448\n",
      "Epoch 156/1000\n",
      " 1/39 [..............................] - ETA: 0s - loss: 0.6180 - accuracy: 0.7656\n",
      "Epoch 156: saving model to model/keypoint_classifier\\keypoint_classifier.hdf5\n",
      "39/39 [==============================] - 0s 2ms/step - loss: 0.7454 - accuracy: 0.7342 - val_loss: 0.3470 - val_accuracy: 0.9412\n",
      "Epoch 157/1000\n",
      " 1/39 [..............................] - ETA: 0s - loss: 0.7863 - accuracy: 0.7188\n",
      "Epoch 157: saving model to model/keypoint_classifier\\keypoint_classifier.hdf5\n",
      "39/39 [==============================] - 0s 2ms/step - loss: 0.7323 - accuracy: 0.7361 - val_loss: 0.3524 - val_accuracy: 0.9430\n",
      "Epoch 158/1000\n",
      " 1/39 [..............................] - ETA: 0s - loss: 0.7248 - accuracy: 0.7344\n",
      "Epoch 158: saving model to model/keypoint_classifier\\keypoint_classifier.hdf5\n",
      "39/39 [==============================] - 0s 2ms/step - loss: 0.7107 - accuracy: 0.7423 - val_loss: 0.3318 - val_accuracy: 0.9503\n",
      "Epoch 159/1000\n",
      " 1/39 [..............................] - ETA: 0s - loss: 0.8006 - accuracy: 0.7578\n",
      "Epoch 159: saving model to model/keypoint_classifier\\keypoint_classifier.hdf5\n",
      "39/39 [==============================] - 0s 2ms/step - loss: 0.7439 - accuracy: 0.7296 - val_loss: 0.3367 - val_accuracy: 0.9442\n",
      "Epoch 160/1000\n",
      " 1/39 [..............................] - ETA: 0s - loss: 0.8525 - accuracy: 0.7109\n",
      "Epoch 160: saving model to model/keypoint_classifier\\keypoint_classifier.hdf5\n",
      "39/39 [==============================] - 0s 3ms/step - loss: 0.7454 - accuracy: 0.7268 - val_loss: 0.3445 - val_accuracy: 0.9430\n",
      "Epoch 161/1000\n",
      " 1/39 [..............................] - ETA: 0s - loss: 0.9126 - accuracy: 0.6328\n",
      "Epoch 161: saving model to model/keypoint_classifier\\keypoint_classifier.hdf5\n",
      "39/39 [==============================] - 0s 2ms/step - loss: 0.7385 - accuracy: 0.7304 - val_loss: 0.3337 - val_accuracy: 0.9436\n",
      "Epoch 162/1000\n",
      " 1/39 [..............................] - ETA: 0s - loss: 0.5746 - accuracy: 0.7734\n",
      "Epoch 162: saving model to model/keypoint_classifier\\keypoint_classifier.hdf5\n",
      "39/39 [==============================] - 0s 2ms/step - loss: 0.7317 - accuracy: 0.7413 - val_loss: 0.3452 - val_accuracy: 0.9388\n",
      "Epoch 163/1000\n",
      " 1/39 [..............................] - ETA: 0s - loss: 0.8221 - accuracy: 0.7109\n",
      "Epoch 163: saving model to model/keypoint_classifier\\keypoint_classifier.hdf5\n",
      "39/39 [==============================] - 0s 2ms/step - loss: 0.7421 - accuracy: 0.7338 - val_loss: 0.3441 - val_accuracy: 0.9436\n",
      "Epoch 164/1000\n",
      " 1/39 [..............................] - ETA: 0s - loss: 0.6426 - accuracy: 0.7812\n",
      "Epoch 164: saving model to model/keypoint_classifier\\keypoint_classifier.hdf5\n",
      "39/39 [==============================] - 0s 2ms/step - loss: 0.7415 - accuracy: 0.7290 - val_loss: 0.3382 - val_accuracy: 0.9418\n",
      "Epoch 165/1000\n",
      " 1/39 [..............................] - ETA: 0s - loss: 0.6780 - accuracy: 0.7344\n",
      "Epoch 165: saving model to model/keypoint_classifier\\keypoint_classifier.hdf5\n",
      "39/39 [==============================] - 0s 2ms/step - loss: 0.7467 - accuracy: 0.7294 - val_loss: 0.3423 - val_accuracy: 0.9509\n",
      "Epoch 166/1000\n",
      " 1/39 [..............................] - ETA: 0s - loss: 0.7581 - accuracy: 0.7344\n",
      "Epoch 166: saving model to model/keypoint_classifier\\keypoint_classifier.hdf5\n",
      "39/39 [==============================] - 0s 2ms/step - loss: 0.7224 - accuracy: 0.7381 - val_loss: 0.3325 - val_accuracy: 0.9503\n",
      "Epoch 167/1000\n",
      " 1/39 [..............................] - ETA: 0s - loss: 0.9791 - accuracy: 0.6562\n",
      "Epoch 167: saving model to model/keypoint_classifier\\keypoint_classifier.hdf5\n",
      "39/39 [==============================] - 0s 2ms/step - loss: 0.7392 - accuracy: 0.7328 - val_loss: 0.3409 - val_accuracy: 0.9430\n",
      "Epoch 168/1000\n",
      " 1/39 [..............................] - ETA: 0s - loss: 0.7937 - accuracy: 0.6562\n",
      "Epoch 168: saving model to model/keypoint_classifier\\keypoint_classifier.hdf5\n",
      "39/39 [==============================] - 0s 2ms/step - loss: 0.7250 - accuracy: 0.7346 - val_loss: 0.3298 - val_accuracy: 0.9509\n",
      "Epoch 169/1000\n",
      " 1/39 [..............................] - ETA: 0s - loss: 0.7073 - accuracy: 0.6797\n",
      "Epoch 169: saving model to model/keypoint_classifier\\keypoint_classifier.hdf5\n",
      "39/39 [==============================] - 0s 2ms/step - loss: 0.7466 - accuracy: 0.7272 - val_loss: 0.3441 - val_accuracy: 0.9442\n",
      "Epoch 170/1000\n",
      " 1/39 [..............................] - ETA: 0s - loss: 0.7280 - accuracy: 0.7266\n",
      "Epoch 170: saving model to model/keypoint_classifier\\keypoint_classifier.hdf5\n",
      "39/39 [==============================] - 0s 2ms/step - loss: 0.7538 - accuracy: 0.7274 - val_loss: 0.3430 - val_accuracy: 0.9497\n",
      "Epoch 171/1000\n",
      " 1/39 [..............................] - ETA: 0s - loss: 0.6830 - accuracy: 0.7500\n",
      "Epoch 171: saving model to model/keypoint_classifier\\keypoint_classifier.hdf5\n",
      "39/39 [==============================] - 0s 2ms/step - loss: 0.7550 - accuracy: 0.7227 - val_loss: 0.3393 - val_accuracy: 0.9485\n",
      "Epoch 172/1000\n",
      " 1/39 [..............................] - ETA: 0s - loss: 0.8568 - accuracy: 0.6875\n",
      "Epoch 172: saving model to model/keypoint_classifier\\keypoint_classifier.hdf5\n",
      "39/39 [==============================] - 0s 2ms/step - loss: 0.7251 - accuracy: 0.7361 - val_loss: 0.3399 - val_accuracy: 0.9479\n",
      "Epoch 173/1000\n",
      " 1/39 [..............................] - ETA: 0s - loss: 0.7591 - accuracy: 0.7188\n",
      "Epoch 173: saving model to model/keypoint_classifier\\keypoint_classifier.hdf5\n",
      "39/39 [==============================] - 0s 2ms/step - loss: 0.7279 - accuracy: 0.7336 - val_loss: 0.3407 - val_accuracy: 0.9497\n",
      "Epoch 174/1000\n",
      " 1/39 [..............................] - ETA: 0s - loss: 0.8215 - accuracy: 0.7031\n",
      "Epoch 174: saving model to model/keypoint_classifier\\keypoint_classifier.hdf5\n",
      "39/39 [==============================] - 0s 2ms/step - loss: 0.7335 - accuracy: 0.7365 - val_loss: 0.3502 - val_accuracy: 0.9424\n",
      "Epoch 175/1000\n",
      " 1/39 [..............................] - ETA: 0s - loss: 0.6765 - accuracy: 0.7578\n",
      "Epoch 175: saving model to model/keypoint_classifier\\keypoint_classifier.hdf5\n",
      "39/39 [==============================] - 0s 2ms/step - loss: 0.7179 - accuracy: 0.7344 - val_loss: 0.3438 - val_accuracy: 0.9430\n",
      "Epoch 176/1000\n",
      " 1/39 [..............................] - ETA: 0s - loss: 0.7843 - accuracy: 0.7266\n",
      "Epoch 176: saving model to model/keypoint_classifier\\keypoint_classifier.hdf5\n",
      "39/39 [==============================] - 0s 2ms/step - loss: 0.7314 - accuracy: 0.7332 - val_loss: 0.3370 - val_accuracy: 0.9467\n",
      "Epoch 177/1000\n",
      " 1/39 [..............................] - ETA: 0s - loss: 0.6707 - accuracy: 0.7500\n",
      "Epoch 177: saving model to model/keypoint_classifier\\keypoint_classifier.hdf5\n",
      "39/39 [==============================] - 0s 3ms/step - loss: 0.7199 - accuracy: 0.7348 - val_loss: 0.3374 - val_accuracy: 0.9491\n",
      "Epoch 178/1000\n",
      " 1/39 [..............................] - ETA: 0s - loss: 0.6212 - accuracy: 0.7422\n",
      "Epoch 178: saving model to model/keypoint_classifier\\keypoint_classifier.hdf5\n",
      "39/39 [==============================] - 0s 2ms/step - loss: 0.7381 - accuracy: 0.7342 - val_loss: 0.3401 - val_accuracy: 0.9515\n",
      "Epoch 179/1000\n",
      " 1/39 [..............................] - ETA: 0s - loss: 0.7197 - accuracy: 0.7422\n",
      "Epoch 179: saving model to model/keypoint_classifier\\keypoint_classifier.hdf5\n",
      "39/39 [==============================] - 0s 2ms/step - loss: 0.7345 - accuracy: 0.7262 - val_loss: 0.3499 - val_accuracy: 0.9400\n",
      "Epoch 180/1000\n",
      " 1/39 [..............................] - ETA: 0s - loss: 0.7900 - accuracy: 0.7031\n",
      "Epoch 180: saving model to model/keypoint_classifier\\keypoint_classifier.hdf5\n",
      "39/39 [==============================] - 0s 2ms/step - loss: 0.7103 - accuracy: 0.7437 - val_loss: 0.3371 - val_accuracy: 0.9430\n",
      "Epoch 181/1000\n",
      " 1/39 [..............................] - ETA: 0s - loss: 0.6698 - accuracy: 0.7188\n",
      "Epoch 181: saving model to model/keypoint_classifier\\keypoint_classifier.hdf5\n",
      "39/39 [==============================] - 0s 2ms/step - loss: 0.7401 - accuracy: 0.7280 - val_loss: 0.3394 - val_accuracy: 0.9388\n",
      "Epoch 182/1000\n",
      " 1/39 [..............................] - ETA: 0s - loss: 0.6770 - accuracy: 0.7500\n",
      "Epoch 182: saving model to model/keypoint_classifier\\keypoint_classifier.hdf5\n",
      "39/39 [==============================] - 0s 2ms/step - loss: 0.7352 - accuracy: 0.7346 - val_loss: 0.3457 - val_accuracy: 0.9370\n",
      "Epoch 183/1000\n",
      " 1/39 [..............................] - ETA: 0s - loss: 0.7193 - accuracy: 0.7266\n",
      "Epoch 183: saving model to model/keypoint_classifier\\keypoint_classifier.hdf5\n",
      "39/39 [==============================] - 0s 2ms/step - loss: 0.7279 - accuracy: 0.7371 - val_loss: 0.3418 - val_accuracy: 0.9394\n",
      "Epoch 184/1000\n",
      " 1/39 [..............................] - ETA: 0s - loss: 0.7467 - accuracy: 0.7344\n",
      "Epoch 184: saving model to model/keypoint_classifier\\keypoint_classifier.hdf5\n",
      "39/39 [==============================] - 0s 2ms/step - loss: 0.7113 - accuracy: 0.7371 - val_loss: 0.3320 - val_accuracy: 0.9430\n",
      "Epoch 185/1000\n",
      " 1/39 [..............................] - ETA: 0s - loss: 0.6358 - accuracy: 0.7891\n",
      "Epoch 185: saving model to model/keypoint_classifier\\keypoint_classifier.hdf5\n",
      "39/39 [==============================] - 0s 2ms/step - loss: 0.7246 - accuracy: 0.7357 - val_loss: 0.3324 - val_accuracy: 0.9394\n",
      "Epoch 186/1000\n",
      " 1/39 [..............................] - ETA: 0s - loss: 0.7537 - accuracy: 0.7188\n",
      "Epoch 186: saving model to model/keypoint_classifier\\keypoint_classifier.hdf5\n",
      "39/39 [==============================] - 0s 2ms/step - loss: 0.7103 - accuracy: 0.7500 - val_loss: 0.3329 - val_accuracy: 0.9430\n",
      "Epoch 187/1000\n",
      " 1/39 [..............................] - ETA: 0s - loss: 0.8315 - accuracy: 0.7109\n",
      "Epoch 187: saving model to model/keypoint_classifier\\keypoint_classifier.hdf5\n",
      "39/39 [==============================] - 0s 2ms/step - loss: 0.7198 - accuracy: 0.7300 - val_loss: 0.3418 - val_accuracy: 0.9430\n",
      "Epoch 188/1000\n",
      " 1/39 [..............................] - ETA: 0s - loss: 0.6723 - accuracy: 0.7812\n",
      "Epoch 188: saving model to model/keypoint_classifier\\keypoint_classifier.hdf5\n",
      "39/39 [==============================] - 0s 2ms/step - loss: 0.7459 - accuracy: 0.7249 - val_loss: 0.3304 - val_accuracy: 0.9491\n",
      "Epoch 188: early stopping\n"
     ]
    },
    {
     "data": {
      "text/plain": [
       "<keras.src.callbacks.History at 0x24f4860e850>"
      ]
     },
     "execution_count": 12,
     "metadata": {},
     "output_type": "execute_result"
    }
   ],
   "source": [
    "model.fit(\n",
    "    X_train,\n",
    "    y_train,\n",
    "    epochs=1000,\n",
    "    batch_size=128,\n",
    "    validation_data=(X_test, y_test),\n",
    "    callbacks=[cp_callback, es_callback]\n",
    ")"
   ]
  },
  {
   "cell_type": "code",
   "execution_count": 13,
   "metadata": {
    "ExecuteTime": {
     "start_time": "2024-02-10T13:42:11.024402300Z"
    },
    "colab": {
     "base_uri": "https://localhost:8080/"
    },
    "id": "pxvb2Y299hE3",
    "outputId": "59eb3185-2e37-4b9e-bc9d-ab1b8ac29b7f"
   },
   "outputs": [
    {
     "name": "stdout",
     "output_type": "stream",
     "text": [
      "13/13 [==============================] - 0s 2ms/step - loss: 0.3304 - accuracy: 0.9491\n"
     ]
    }
   ],
   "source": [
    "# Model evaluation\n",
    "val_loss, val_acc = model.evaluate(X_test, y_test, batch_size=128)"
   ]
  },
  {
   "cell_type": "code",
   "execution_count": 14,
   "metadata": {
    "ExecuteTime": {
     "start_time": "2024-02-10T13:42:11.040334Z"
    },
    "id": "RBkmDeUW9hE4"
   },
   "outputs": [],
   "source": [
    "# Loading the saved model\n",
    "model = tf.keras.models.load_model(model_save_path)"
   ]
  },
  {
   "cell_type": "code",
   "execution_count": 15,
   "metadata": {
    "colab": {
     "base_uri": "https://localhost:8080/"
    },
    "id": "tFz9Tb0I9hE4",
    "outputId": "1c3b3528-54ae-4ee2-ab04-77429211cbef"
   },
   "outputs": [
    {
     "name": "stdout",
     "output_type": "stream",
     "text": [
      "1/1 [==============================] - 0s 68ms/step\n",
      "[5.3240843e-02 8.4035897e-01 1.2246236e-02 4.4727843e-05 5.9808390e-06\n",
      " 1.3161468e-05 1.0155536e-05 9.2950836e-02 5.9518497e-04 5.3387822e-04]\n",
      "1\n"
     ]
    }
   ],
   "source": [
    "# Inference test\n",
    "predict_result = model.predict(np.array([X_test[0]]))\n",
    "print(np.squeeze(predict_result))\n",
    "print(np.argmax(np.squeeze(predict_result)))"
   ]
  },
  {
   "cell_type": "markdown",
   "metadata": {
    "id": "S3U4yNWx9hE4"
   },
   "source": [
    "# Confusion matrix"
   ]
  },
  {
   "cell_type": "code",
   "execution_count": 16,
   "metadata": {
    "colab": {
     "base_uri": "https://localhost:8080/",
     "height": 582
    },
    "id": "AP1V6SCk9hE5",
    "outputId": "08e41a80-7a4a-4619-8125-ecc371368d19"
   },
   "outputs": [
    {
     "name": "stdout",
     "output_type": "stream",
     "text": [
      "52/52 [==============================] - 0s 791us/step\n"
     ]
    },
    {
     "data": {
      "image/png": "[encoded data removed]",
      "text/plain": [
       "<Figure size 700x600 with 2 Axes>"
      ]
     },
     "metadata": {},
     "output_type": "display_data"
    },
    {
     "name": "stdout",
     "output_type": "stream",
     "text": [
      "Classification Report\n",
      "              precision    recall  f1-score   support\n",
      "\n",
      "           0       0.98      0.97      0.98       428\n",
      "           1       0.97      0.93      0.95       414\n",
      "           2       0.93      0.94      0.94       372\n",
      "           3       0.96      1.00      0.98       150\n",
      "           4       0.97      0.87      0.92        45\n",
      "           5       0.77      0.96      0.86        56\n",
      "           6       0.88      0.96      0.92        79\n",
      "           7       0.96      1.00      0.98        53\n",
      "           8       0.97      0.85      0.90        39\n",
      "           9       0.79      0.79      0.79        14\n",
      "\n",
      "    accuracy                           0.95      1650\n",
      "   macro avg       0.92      0.93      0.92      1650\n",
      "weighted avg       0.95      0.95      0.95      1650\n",
      "\n"
     ]
    }
   ],
   "source": [
    "import pandas as pd\n",
    "import seaborn as sns\n",
    "import matplotlib.pyplot as plt\n",
    "from sklearn.metrics import confusion_matrix, classification_report\n",
    "\n",
    "def print_confusion_matrix(y_true, y_pred, report=True):\n",
    "    labels = sorted(list(set(y_true)))\n",
    "    cmx_data = confusion_matrix(y_true, y_pred, labels=labels)\n",
    "    \n",
    "    df_cmx = pd.DataFrame(cmx_data, index=labels, columns=labels)\n",
    " \n",
    "    fig, ax = plt.subplots(figsize=(7, 6))\n",
    "    sns.heatmap(df_cmx, annot=True, fmt='g' ,square=False)\n",
    "    ax.set_ylim(len(set(y_true)), 0)\n",
    "    plt.show()\n",
    "    \n",
    "    if report:\n",
    "        print('Classification Report')\n",
    "        print(classification_report(y_test, y_pred))\n",
    "\n",
    "Y_pred = model.predict(X_test)\n",
    "y_pred = np.argmax(Y_pred, axis=1)\n",
    "\n",
    "print_confusion_matrix(y_test, y_pred)"
   ]
  },
  {
   "cell_type": "markdown",
   "metadata": {
    "id": "FNP6aqzc9hE5"
   },
   "source": [
    "# Convert to model for Tensorflow-Lite"
   ]
  },
  {
   "cell_type": "code",
   "execution_count": 17,
   "metadata": {
    "id": "ODjnYyld9hE6"
   },
   "outputs": [
    {
     "name": "stderr",
     "output_type": "stream",
     "text": [
      "C:\\Users\\shaan\\AppData\\Local\\Programs\\Python\\Python311\\Lib\\site-packages\\keras\\src\\engine\\training.py:3103: UserWarning: You are saving your model as an HDF5 file via `model.save()`. This file format is considered legacy. We recommend using instead the native Keras format, e.g. `model.save('my_model.keras')`.\n",
      "  saving_api.save_model(\n"
     ]
    }
   ],
   "source": [
    "# Save as a model dedicated to inference\n",
    "model.save(model_save_path, include_optimizer=False)"
   ]
  },
  {
   "cell_type": "code",
   "execution_count": 18,
   "metadata": {
    "colab": {
     "base_uri": "https://localhost:8080/"
    },
    "id": "zRfuK8Y59hE6",
    "outputId": "a4ca585c-b5d5-4244-8291-8674063209bb"
   },
   "outputs": [
    {
     "name": "stdout",
     "output_type": "stream",
     "text": [
      "INFO:tensorflow:Assets written to: C:\\Users\\shaan\\AppData\\Local\\Temp\\tmp84fr6dlu\\assets\n"
     ]
    },
    {
     "name": "stderr",
     "output_type": "stream",
     "text": [
      "INFO:tensorflow:Assets written to: C:\\Users\\shaan\\AppData\\Local\\Temp\\tmp84fr6dlu\\assets\n"
     ]
    },
    {
     "data": {
      "text/plain": [
       "6808"
      ]
     },
     "execution_count": 18,
     "metadata": {},
     "output_type": "execute_result"
    }
   ],
   "source": [
    "# Transform model (quantization)\n",
    "\n",
    "converter = tf.lite.TFLiteConverter.from_keras_model(model)\n",
    "converter.optimizations = [tf.lite.Optimize.DEFAULT]\n",
    "tflite_quantized_model = converter.convert()\n",
    "\n",
    "open(tflite_save_path, 'wb').write(tflite_quantized_model)"
   ]
  },
  {
   "cell_type": "markdown",
   "metadata": {
    "id": "CHBPBXdx9hE6"
   },
   "source": [
    "# Inference test"
   ]
  },
  {
   "cell_type": "code",
   "execution_count": 19,
   "metadata": {
    "id": "mGAzLocO9hE7"
   },
   "outputs": [],
   "source": [
    "interpreter = tf.lite.Interpreter(model_path=tflite_save_path)\n",
    "interpreter.allocate_tensors()"
   ]
  },
  {
   "cell_type": "code",
   "execution_count": 20,
   "metadata": {
    "id": "oQuDK8YS9hE7"
   },
   "outputs": [],
   "source": [
    "# Get I / O tensor\n",
    "input_details = interpreter.get_input_details()\n",
    "output_details = interpreter.get_output_details()"
   ]
  },
  {
   "cell_type": "code",
   "execution_count": 21,
   "metadata": {
    "id": "2_ixAf_l9hE7"
   },
   "outputs": [],
   "source": [
    "interpreter.set_tensor(input_details[0]['index'], np.array([X_test[0]]))"
   ]
  },
  {
   "cell_type": "code",
   "execution_count": 22,
   "metadata": {
    "colab": {
     "base_uri": "https://localhost:8080/"
    },
    "id": "s4FoAnuc9hE7",
    "outputId": "91f18257-8d8b-4ef3-c558-e9b5f94fabbf",
    "scrolled": true
   },
   "outputs": [
    {
     "name": "stdout",
     "output_type": "stream",
     "text": [
      "CPU times: total: 0 ns\n",
      "Wall time: 0 ns\n"
     ]
    }
   ],
   "source": [
    "%%time\n",
    "# Inference implementation\n",
    "interpreter.invoke()\n",
    "tflite_results = interpreter.get_tensor(output_details[0]['index'])"
   ]
  },
  {
   "cell_type": "code",
   "execution_count": 23,
   "metadata": {
    "colab": {
     "base_uri": "https://localhost:8080/"
    },
    "id": "vONjp19J9hE8",
    "outputId": "77205e24-fd00-42c4-f7b6-e06e527c2cba"
   },
   "outputs": [
    {
     "name": "stdout",
     "output_type": "stream",
     "text": [
      "[5.3240810e-02 8.4035915e-01 1.2246216e-02 4.4727767e-05 5.9808290e-06\n",
      " 1.3161444e-05 1.0155499e-05 9.2950813e-02 5.9518428e-04 5.3387752e-04]\n",
      "1\n"
     ]
    }
   ],
   "source": [
    "print(np.squeeze(tflite_results))\n",
    "print(np.argmax(np.squeeze(tflite_results)))"
   ]
  }
 ],
 "metadata": {
  "accelerator": "GPU",
  "colab": {
   "collapsed_sections": [],
   "name": "keypoint_classification_EN.ipynb",
   "provenance": [],
   "toc_visible": true
  },
  "kernelspec": {
   "display_name": "Python 3 (ipykernel)",
   "language": "python",
   "name": "python3"
  },
  "language_info": {
   "codemirror_mode": {
    "name": "ipython",
    "version": 3
   },
   "file_extension": ".py",
   "mimetype": "text/x-python",
   "name": "python",
   "nbconvert_exporter": "python",
   "pygments_lexer": "ipython3",
   "version": "3.11.4"
  }
 },
 "nbformat": 4,
 "nbformat_minor": 4
}
